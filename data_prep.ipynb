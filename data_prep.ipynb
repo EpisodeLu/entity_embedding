{
 "cells": [
  {
   "cell_type": "code",
   "execution_count": 2,
   "metadata": {},
   "outputs": [],
   "source": [
    "import numpy as np\n",
    "import json,os\n",
    "from collections import Counter\n",
    "import random\n",
    "from sklearn.model_selection import train_test_split"
   ]
  },
  {
   "cell_type": "code",
   "execution_count": null,
   "metadata": {
    "collapsed": true
   },
   "outputs": [],
   "source": [
    "directory = \"./data/\"\n",
    "files = ['Book-Names-Corpus.txt', 'Chinese_Names_Corpus.txt','Organization-Names-Corpus.txt']\n",
    "output_file = \"./data/char2id.txt\"\n",
    "\n",
    "num = 0\n",
    "char2id = {}\n",
    "\n",
    "char_list = [chr(n) for n in range(48, 58)]\n",
    "cap = [chr(n) for n in range(65, 91)]\n",
    "lower = [chr(n) for n in range(97, 123)]\n",
    "\n",
    "char_list.extend(cap)\n",
    "char_list.extend(lower)\n",
    "\n",
    "for c in char_list:\n",
    "    char2id[c] = num\n",
    "    num+=1\n",
    "\n",
    "for file in files:\n",
    "    path = directory+file\n",
    "    with open(path, 'r', encoding='UTF-8') as f:\n",
    "        while 1:\n",
    "            line = f.readline()\n",
    "            if not line:\n",
    "                break\n",
    "            for c in list(line.strip()):\n",
    "                if c not in char2id:\n",
    "                    char2id[c] = num\n",
    "                    num+=1\n",
    "\n",
    "char2id['<PAD>'] = num\n",
    "num+=1\n",
    "char2id['<UNK>'] = num\n",
    "num+=1\n",
    "\n",
    "                    \n",
    "jsObj = json.dumps(char2id)\n",
    "with open(output_file,'w') as f:\n",
    "    f.write(jsObj)"
   ]
  },
  {
   "cell_type": "code",
   "execution_count": null,
   "metadata": {},
   "outputs": [],
   "source": [
    "max_len = 0\n",
    "seq = ''\n",
    "for file in files:\n",
    "    path = directory+file\n",
    "    with open(path, 'r', encoding='UTF-8') as f:\n",
    "        while 1:\n",
    "            line = f.readline()\n",
    "            if not line:\n",
    "                break\n",
    "            if len(line.strip()) > max_len:\n",
    "                max_len = len(line.strip())\n",
    "                seq = line.strip()\n",
    "                \n",
    "print(seq)"
   ]
  },
  {
   "cell_type": "code",
   "execution_count": null,
   "metadata": {
    "collapsed": true
   },
   "outputs": [],
   "source": [
    "directory = \"./data/\"\n",
    "files = ['Book-Names-Corpus.txt', 'Chinese_Names_Corpus.txt','Organization-Names-Corpus.txt']\n",
    "category = ['ART','PER','ORG']\n",
    "output_file = \"./data/etts.txt\"\n",
    "\n",
    "with open(output_file, 'w') as fw:\n",
    "    for i, file in enumerate(files):\n",
    "        path = directory+file\n",
    "        with open(path, 'r', encoding='UTF-8') as f:\n",
    "            while 1:\n",
    "                line = f.readline()\n",
    "                if not line:\n",
    "                    break\n",
    "                newline = line.strip() + ',' + category[i] + '\\n'\n",
    "                fw.write(newline)\n",
    "            "
   ]
  },
  {
   "cell_type": "code",
   "execution_count": 6,
   "metadata": {},
   "outputs": [],
   "source": [
    "def read_file(filename):\n",
    "    contents, labels = [], []\n",
    "    with open(filename, 'r', encoding='utf-8') as f:\n",
    "        for line in f:\n",
    "            try:\n",
    "                content,label = line.strip().split(',')\n",
    "                if content:\n",
    "                    contents.append(list(content))\n",
    "                    labels.append(label)\n",
    "            except:\n",
    "                pass\n",
    "    return contents, labels"
   ]
  },
  {
   "cell_type": "code",
   "execution_count": 7,
   "metadata": {},
   "outputs": [],
   "source": [
    "file = \"./data/etts.txt\"\n",
    "\n",
    "\n",
    "vocab_size = 5000\n",
    "data_train, _ = read_file(file)\n",
    "all_data = []\n",
    "for content in data_train:\n",
    "    all_data.extend(content)\n",
    "\n",
    "counter = Counter(all_data)\n",
    "count_pairs = counter.most_common(vocab_size-1)\n",
    "words, _ = list(zip(*count_pairs))\n"
   ]
  },
  {
   "cell_type": "code",
   "execution_count": null,
   "metadata": {},
   "outputs": [],
   "source": [
    "file = \"./data/etts.txt\"\n",
    "directory = \"./data/2019-07-19\"\n",
    "train_file = \"train.txt\"\n",
    "test_file = \"test.txt\"\n",
    "val_file = \"val.txt\"\n",
    "rate = 0.7\n",
    "\n",
    "etts = []\n",
    "with open(file, 'r') as f:\n",
    "    while 1:\n",
    "        line = f.readline()\n",
    "        if not line:\n",
    "            break\n",
    "        etts.append(line.strip())\n",
    "        \n",
    "indices = random.sample([i for i in range(len(etts))], int(len(etts)*(1.0-rate)))\n",
    "indices.sort()\n",
    "tv = [etts[i] for i in indices]\n",
    "\n",
    "train_data = [e for e in etts if e not in tv]\n",
    "\n",
    "test_data = tv[:len(tv)]\n",
    "val_data = tv[len(tv):]\n",
    "\n",
    "print(len(train_data))"
   ]
  },
  {
   "cell_type": "code",
   "execution_count": 25,
   "metadata": {},
   "outputs": [],
   "source": [
    "file = \"./data/etts.txt\"\n",
    "directory = \"./data/2019-07-19\"\n",
    "train_file = \"train.txt\"\n",
    "test_file = \"test.txt\"\n",
    "val_file = \"val.txt\"\n",
    "rate = 0.7\n",
    "\n",
    "x,y = [], []\n",
    "with open(file, 'r') as f:\n",
    "    while 1:\n",
    "        line = f.readline()\n",
    "        if not line:\n",
    "            break\n",
    "        chars, tag = line.strip().split(',')\n",
    "        x.append(chars)\n",
    "        y.append(tag)\n",
    "\n",
    "x_train, x_test, y_train, y_test = train_test_split(x, y, test_size=0.3)\n",
    "\n",
    "with open(os.path.join(directory, train_file), 'w') as fw:\n",
    "    for i, _ in enumerate(x_train):\n",
    "        fw.write(x_train[i]+','+y_train[i]+'\\n')\n",
    "\n",
    "test_x = x_test[:len(x_test)//2]\n",
    "test_y = y_test[:len(x_test)//2]\n",
    "val_x = x_test[len(x_test)//2:]\n",
    "val_y = y_test[len(x_test)//2:]\n",
    "\n",
    "with open(os.path.join(directory, test_file), 'w') as fw:\n",
    "    for i, _ in enumerate(test_x):\n",
    "        fw.write(test_x[i]+','+test_y[i]+'\\n')\n",
    "        \n",
    "with open(os.path.join(directory, val_file), 'w') as fw:\n",
    "    for i, _ in enumerate(val_x):\n",
    "        fw.write(val_x[i]+','+val_y[i]+'\\n')"
   ]
  },
  {
   "cell_type": "code",
   "execution_count": null,
   "metadata": {
    "collapsed": true
   },
   "outputs": [],
   "source": []
  }
 ],
 "metadata": {
  "kernelspec": {
   "display_name": "Python 3",
   "language": "python",
   "name": "python3"
  },
  "language_info": {
   "codemirror_mode": {
    "name": "ipython",
    "version": 3
   },
   "file_extension": ".py",
   "mimetype": "text/x-python",
   "name": "python",
   "nbconvert_exporter": "python",
   "pygments_lexer": "ipython3",
   "version": "3.5.4"
  }
 },
 "nbformat": 4,
 "nbformat_minor": 2
}
